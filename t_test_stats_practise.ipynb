{
  "nbformat": 4,
  "nbformat_minor": 0,
  "metadata": {
    "colab": {
      "provenance": []
    },
    "kernelspec": {
      "name": "python3",
      "display_name": "Python 3"
    },
    "language_info": {
      "name": "python"
    }
  },
  "cells": [
    {
      "cell_type": "code",
      "source": [
        "import numpy as np\n",
        "from scipy import stats\n",
        "import math"
      ],
      "metadata": {
        "id": "nyNxvrtIT1CP"
      },
      "execution_count": 1,
      "outputs": []
    },
    {
      "cell_type": "code",
      "execution_count": 2,
      "metadata": {
        "colab": {
          "base_uri": "https://localhost:8080/",
          "height": 70
        },
        "id": "389jLBA0P1jy",
        "outputId": "7cb23836-9417-494a-b703-7cf9cbd57437"
      },
      "outputs": [
        {
          "output_type": "execute_result",
          "data": {
            "text/plain": [
              "'\\n1)\\n\\nA pharmaceutical company wants to test if the average blood pressure of patients taking a new medication\\nis significantly lower than the population average of 120 mmHg.\\nThey collect a sample of 30 patients and find the average blood pressure to be 115 mmHg with\\na standard deviation of 5 mmHg.**  '"
            ],
            "application/vnd.google.colaboratory.intrinsic+json": {
              "type": "string"
            }
          },
          "metadata": {},
          "execution_count": 2
        }
      ],
      "source": [
        "'''\n",
        "1)\n",
        "\n",
        "A pharmaceutical company wants to test if the average blood pressure of patients taking a new medication\n",
        "is significantly lower than the population average of 120 mmHg.\n",
        "They collect a sample of 30 patients and find the average blood pressure to be 115 mmHg with\n",
        "a standard deviation of 5 mmHg.**  '''"
      ]
    },
    {
      "cell_type": "code",
      "source": [
        "#data are\n",
        "population_mean = 120\n",
        "sample_mean = 115\n",
        "n = 30\n",
        "std_dev = 5\n",
        "# assuming ci\n",
        "Ci = 0.05\n",
        "alpha = Ci/2\n"
      ],
      "metadata": {
        "id": "3FUsGh9rS-zJ"
      },
      "execution_count": 3,
      "outputs": []
    },
    {
      "cell_type": "code",
      "source": [
        "alpha"
      ],
      "metadata": {
        "colab": {
          "base_uri": "https://localhost:8080/"
        },
        "id": "fyPcJR8iS-Re",
        "outputId": "aa375c28-e633-4a18-cafc-859f046beac5"
      },
      "execution_count": 4,
      "outputs": [
        {
          "output_type": "execute_result",
          "data": {
            "text/plain": [
              "0.025"
            ]
          },
          "metadata": {},
          "execution_count": 4
        }
      ]
    },
    {
      "cell_type": "code",
      "source": [
        "t_stats = (sample_mean-population_mean)/(std_dev/np.sqrt(n))\n",
        "t_stats\n",
        "dof = n-1\n",
        "dof"
      ],
      "metadata": {
        "colab": {
          "base_uri": "https://localhost:8080/"
        },
        "id": "gaFMotKpS-Ov",
        "outputId": "9862e8f6-892a-4354-b544-724a5aabaec8"
      },
      "execution_count": 5,
      "outputs": [
        {
          "output_type": "execute_result",
          "data": {
            "text/plain": [
              "29"
            ]
          },
          "metadata": {},
          "execution_count": 5
        }
      ]
    },
    {
      "cell_type": "code",
      "source": [
        "# to find the certical t value\n",
        "certical_t_value = stats.t.ppf(1-alpha,dof)\n",
        "certical_t_value"
      ],
      "metadata": {
        "colab": {
          "base_uri": "https://localhost:8080/"
        },
        "id": "icVhH48BUT58",
        "outputId": "4a8a70b7-c536-473f-dbcf-32c8dde5273f"
      },
      "execution_count": 6,
      "outputs": [
        {
          "output_type": "execute_result",
          "data": {
            "text/plain": [
              "2.045229642132703"
            ]
          },
          "metadata": {},
          "execution_count": 6
        }
      ]
    },
    {
      "cell_type": "code",
      "source": [
        "# to find the p_value\n",
        "p_value = stats.t.sf(np.abs(t_stats),dof)*2\n",
        "p_value"
      ],
      "metadata": {
        "colab": {
          "base_uri": "https://localhost:8080/"
        },
        "id": "a-Lqy0UFUsZ2",
        "outputId": "2f72602c-e558-4311-f054-f11d9205e318"
      },
      "execution_count": 7,
      "outputs": [
        {
          "output_type": "execute_result",
          "data": {
            "text/plain": [
              "6.739145346941581e-06"
            ]
          },
          "metadata": {},
          "execution_count": 7
        }
      ]
    },
    {
      "cell_type": "code",
      "source": [
        "# reject or accept\n",
        "if p_value < alpha:\n",
        "  print('reject the null hypothesis')\n",
        "else:\n",
        "  print('Accept the  null hypithesis')"
      ],
      "metadata": {
        "colab": {
          "base_uri": "https://localhost:8080/"
        },
        "id": "XGjkhH9NVE7L",
        "outputId": "ab0e6db4-deed-46fa-f57c-d89345aa6417"
      },
      "execution_count": 8,
      "outputs": [
        {
          "output_type": "stream",
          "name": "stdout",
          "text": [
            "reject the null hypothesis\n"
          ]
        }
      ]
    },
    {
      "cell_type": "code",
      "source": [
        "'''A factory produces light bulbs that are advertised to last 1000 hours on average. A random sample of 25 bulbs is tested,\n",
        " and their average lifespan is found to be\n",
        "  980 hours with a standard deviation of 40 hours'''"
      ],
      "metadata": {
        "colab": {
          "base_uri": "https://localhost:8080/",
          "height": 53
        },
        "id": "p0LUXjDyVb0g",
        "outputId": "66f30577-883a-450a-a6d8-36059cacadcd"
      },
      "execution_count": 9,
      "outputs": [
        {
          "output_type": "execute_result",
          "data": {
            "text/plain": [
              "'A factory produces light bulbs that are advertised to last 1000 hours on average. A random sample of 25 bulbs is tested,\\n and their average lifespan is found to be\\n  980 hours with a standard deviation of 40 hours'"
            ],
            "application/vnd.google.colaboratory.intrinsic+json": {
              "type": "string"
            }
          },
          "metadata": {},
          "execution_count": 9
        }
      ]
    },
    {
      "cell_type": "code",
      "source": [
        "# data\n",
        "population_mean = 1000\n",
        "n= 25\n",
        "sample_mean  = 980\n",
        "std_dev = 40\n",
        "\n",
        "alpha = 0.025\n",
        "\n",
        "t_value = (sample_mean-population_mean)/(std_dev/np.sqrt(n))\n",
        "print(f't_value : {t_value}')\n",
        "\n",
        "dof = n-1\n",
        "print(f'degree of freedom : {dof}')\n",
        "\n",
        "ceritcal_t_value = stats.t.ppf(1-alpha,dof)\n",
        "print(f't_critical : {ceritcal_t_value}')\n",
        "\n",
        "p_value = stats.t.sf(np.abs(t_value),dof)*2\n",
        "print(f'p_value : {p_value}')\n",
        "\n",
        "if p_value < alpha:\n",
        "  print('reject the null hypo')\n",
        "else:\n",
        "  print('accept the null hypo')"
      ],
      "metadata": {
        "colab": {
          "base_uri": "https://localhost:8080/"
        },
        "id": "Alv7Y1keVbxH",
        "outputId": "e8f372f9-bebc-4b4f-d878-e8b2519fd7db"
      },
      "execution_count": 10,
      "outputs": [
        {
          "output_type": "stream",
          "name": "stdout",
          "text": [
            "t_value : -2.5\n",
            "degree of freedom : 24\n",
            "t_critical : 2.0638985616280205\n",
            "p_value : 0.019654175116578753\n",
            "reject the null hypo\n"
          ]
        }
      ]
    },
    {
      "cell_type": "code",
      "source": [
        "'''A researcher believes that the average height of a species of plant is 15 cm.\n",
        " A sample of 10 plants has the following heights (in cm):\n",
        "  [14, 15, 14.5, 15.5, 14, 15.5, 14.5, 15, 14, 16].\n",
        "  Test the researcher’s belief at a 5% significance level.'''"
      ],
      "metadata": {
        "colab": {
          "base_uri": "https://localhost:8080/",
          "height": 70
        },
        "id": "9nd4oOJVVbuV",
        "outputId": "12cf6b99-fbc4-44c3-ebdc-a473dffad33e"
      },
      "execution_count": 11,
      "outputs": [
        {
          "output_type": "execute_result",
          "data": {
            "text/plain": [
              "'A researcher believes that the average height of a species of plant is 15 cm.\\n A sample of 10 plants has the following heights (in cm):\\n  [14, 15, 14.5, 15.5, 14, 15.5, 14.5, 15, 14, 16].\\n  Test the researcher’s belief at a 5% significance level.'"
            ],
            "application/vnd.google.colaboratory.intrinsic+json": {
              "type": "string"
            }
          },
          "metadata": {},
          "execution_count": 11
        }
      ]
    },
    {
      "cell_type": "code",
      "source": [
        "# data\n",
        "population_mean = 15\n",
        "samples_size = [14, 15, 14.5, 15.5, 14, 15.5, 14.5, 15, 14, 16]\n",
        "alpha  = 0.05\n",
        "n = len(samples_size)\n",
        "dof = n-1\n",
        "\n",
        "# to find the sample mean\n",
        "\n",
        "sample_mean = sum(samples_size) / len(samples_size)\n",
        "\n",
        "print(f'sample mean value : {sample_mean}')\n",
        "\n",
        "# to find the standard deviation\n",
        "squared_diff = [(x -sample_mean)**2 for x in samples_size]\n",
        "# sum of the squared_diff because formul is summanation of the sample_mean and samples_size\n",
        "sum_squared_diff = sum(squared_diff)\n",
        "\n",
        "# caluculate the std_deviation is nothing but variance\n",
        "\n",
        "variance = sum_squared_diff / (n-1)\n",
        "std_dev = np.sqrt(variance)\n",
        "\n",
        "print(f'standard deviation value : {std_dev}')\n",
        "\n",
        "# t- statistics value\n",
        "\n",
        "t_stats = (sample_mean -population_mean ) /(std_dev/np.sqrt(n))\n",
        "print(f't statistics value :  {t_stats}')\n",
        "\n",
        "# to find the certical value\n",
        "t_ceritical = stats.t.ppf(1-alpha/2,dof)\n",
        "print(f't_ceritical value : {t_ceritical}')\n",
        "\n",
        "p_value = stats.t.sf(np.abs(t_stats),dof)*2\n",
        "\n",
        "print(f'p_values : {p_value}')\n",
        "\n",
        "if p_value < alpha:\n",
        "  print('reject the null hypoyhesis')\n",
        "else:\n",
        "  print('accept the null hypi')\n",
        "\n"
      ],
      "metadata": {
        "colab": {
          "base_uri": "https://localhost:8080/"
        },
        "id": "rltzb2ozVbrV",
        "outputId": "a2f02c4e-24fe-4d78-e6b5-af8bb20b75cc"
      },
      "execution_count": 12,
      "outputs": [
        {
          "output_type": "stream",
          "name": "stdout",
          "text": [
            "sample mean value : 14.8\n",
            "standard deviation value : 0.7149203529842405\n",
            "t statistics value :  -0.8846517369293798\n",
            "t_ceritical value : 2.2621571627409915\n",
            "p_values : 0.39936135904543535\n",
            "accept the null hypi\n"
          ]
        }
      ]
    },
    {
      "cell_type": "code",
      "source": [
        "'''A company claims that the mean weight of its product is 50 grams.\n",
        "A quality control specialist randomly selects 20 products and\n",
        "finds an average weight of 49 grams with a standard deviation of 1.5 grams.\n",
        "Test the company's claim at a 1% significance level.'''\n"
      ],
      "metadata": {
        "id": "6DrSMszhtt1A",
        "colab": {
          "base_uri": "https://localhost:8080/",
          "height": 70
        },
        "outputId": "ca630a92-f0a3-4caa-939a-daf8f846256b"
      },
      "execution_count": 13,
      "outputs": [
        {
          "output_type": "execute_result",
          "data": {
            "text/plain": [
              "\"A company claims that the mean weight of its product is 50 grams.\\nA quality control specialist randomly selects 20 products and\\nfinds an average weight of 49 grams with a standard deviation of 1.5 grams.\\nTest the company's claim at a 1% significance level.\""
            ],
            "application/vnd.google.colaboratory.intrinsic+json": {
              "type": "string"
            }
          },
          "metadata": {},
          "execution_count": 13
        }
      ]
    },
    {
      "cell_type": "code",
      "source": [
        "# data\n",
        "population_mean = 50\n",
        "n = 20\n",
        "sample_mean = 49\n",
        "s = 1.5\n",
        "alpha = 0.01\n",
        "\n",
        "# degree of freedom\n",
        "dof = n-1\n",
        "print(f'degree of freedom : {dof}')\n",
        "\n",
        "# t statistical value\n",
        "t_value = (sample_mean - population_mean) / (s / np.sqrt(n))\n",
        "print(f't_statistical value : {t_value}')\n",
        "\n",
        "# t critical value\n",
        "t_certical = stats.t.ppf(1 - alpha / 2, dof)\n",
        "\n",
        "\n",
        "print(f't_certical : {t_ceritical}')\n",
        "\n",
        "# p value\n",
        "\n",
        "p_value = stats.t.sf(np.abs(t_value),dof)*2\n",
        "\n",
        "\n",
        "print(f'p_value : {p_value}')\n",
        "\n",
        "if p_value < alpha:\n",
        "  print('reject the null hypothesis')\n",
        "else:\n",
        "  print('accept the null hypithesis')"
      ],
      "metadata": {
        "colab": {
          "base_uri": "https://localhost:8080/"
        },
        "id": "D_CAdfhX1XBY",
        "outputId": "61d0c4f8-eb27-4d43-d202-2d207e92d35b"
      },
      "execution_count": 14,
      "outputs": [
        {
          "output_type": "stream",
          "name": "stdout",
          "text": [
            "degree of freedom : 19\n",
            "t_statistical value : -2.9814239699997196\n",
            "t_certical : 2.2621571627409915\n",
            "p_value : 0.007670613445788574\n",
            "reject the null hypothesis\n"
          ]
        }
      ]
    },
    {
      "cell_type": "code",
      "source": [
        "import numpy as np\n",
        "import scipy.stats as stats\n",
        "\n",
        "# Given data\n",
        "population_mean = 50\n",
        "n = 20\n",
        "sample_mean = 49\n",
        "s = 1.5\n",
        "alpha = 0.01\n",
        "\n",
        "# Calculate degrees of freedom\n",
        "dof = n - 1\n",
        "print(f'Degrees of freedom: {dof}')\n",
        "\n",
        "# Calculate the t-statistic\n",
        "t_value = (sample_mean - population_mean) / (s / np.sqrt(n))\n",
        "print(f'T-statistical value: {t_value}')\n",
        "\n",
        "# Calculate the critical t-value for a two-tailed test\n",
        "t_critical = stats.t.ppf(1 - alpha / 2, dof)\n",
        "print(f'T-critical value: {t_critical}')\n",
        "\n",
        "\n",
        "\n",
        "\n",
        "\n",
        "# Calculate the p-value\n",
        "p_value = stats.t.sf(np.abs(t_value), dof) * 2\n",
        "print(f'P-value: {p_value}')\n",
        "\n",
        "# Make the decision based on the p-value\n",
        "if p_value < alpha:\n",
        "    print('Reject the null hypothesis')\n",
        "else:\n",
        "    print('Fail to reject the null hypothesis')\n"
      ],
      "metadata": {
        "colab": {
          "base_uri": "https://localhost:8080/"
        },
        "id": "TKY2GpmU1W-K",
        "outputId": "8e151c91-834e-4143-e7c8-16f23722a111"
      },
      "execution_count": 15,
      "outputs": [
        {
          "output_type": "stream",
          "name": "stdout",
          "text": [
            "Degrees of freedom: 19\n",
            "T-statistical value: -2.9814239699997196\n",
            "T-critical value: 2.860934606449914\n",
            "P-value: 0.007670613445788574\n",
            "Reject the null hypothesis\n"
          ]
        }
      ]
    },
    {
      "cell_type": "markdown",
      "source": [
        "# t test\n",
        "**TWO INDEPENDENT SAMPLE T- TEST**"
      ],
      "metadata": {
        "id": "Kt7XsL-13j70"
      }
    },
    {
      "cell_type": "code",
      "source": [
        "''' Problem: A researcher wants to determine if there is a significant difference in the average test scores of two groups of students.\n",
        "Group A consists of 30 students with a mean score of 85 and a standard deviation of 5.\n",
        "Group B consists of 35 students with a mean score of 80 and a standard deviation of 6.\n",
        "Test the hypothesis at the 5% significance level.'''\n"
      ],
      "metadata": {
        "id": "YQukzduy1W6m",
        "colab": {
          "base_uri": "https://localhost:8080/",
          "height": 70
        },
        "outputId": "0d7c2b5c-aad2-4605-d1ea-d72a76297a3d"
      },
      "execution_count": 16,
      "outputs": [
        {
          "output_type": "execute_result",
          "data": {
            "text/plain": [
              "' Problem: A researcher wants to determine if there is a significant difference in the average test scores of two groups of students.\\nGroup A consists of 30 students with a mean score of 85 and a standard deviation of 5.\\nGroup B consists of 35 students with a mean score of 80 and a standard deviation of 6.\\nTest the hypothesis at the 5% significance level.'"
            ],
            "application/vnd.google.colaboratory.intrinsic+json": {
              "type": "string"
            }
          },
          "metadata": {},
          "execution_count": 16
        }
      ]
    },
    {
      "cell_type": "code",
      "source": [
        "# data\n",
        "\n",
        "na = 30\n",
        "xa = 85\n",
        "sa = 5\n",
        "\n",
        "nb = 35\n",
        "xb = 80\n",
        "sb = 6\n",
        "\n",
        "alpha = 0.05\n",
        "\n",
        "np.random.seed(0) # for reproduciability\n",
        "group_a_students =np.random.normal(loc=xa,scale=sa,size=na)\n",
        "group_b_students =np.random.normal(loc=xb,scale=sb,size=nb)\n",
        "\n",
        "t_stats , p_value = stats.ttest_ind(group_a_students,group_b_students)\n",
        "print('results of independent t-tests ')\n",
        "print(f't statitical value : {t_stats}')\n",
        "print(f'p value : {p_value}')\n",
        "\n",
        "if p_value < alpha:\n",
        "  print('reject the null hypothisis \\n there is a differece between group a and group b students')\n",
        "else:\n",
        "  print('accept the null hypothisis \\n there is no difference between group a and group b students')\n"
      ],
      "metadata": {
        "id": "0437Y-Zn1W2N",
        "colab": {
          "base_uri": "https://localhost:8080/"
        },
        "outputId": "061f7088-276c-4c53-c273-03998186a5c5"
      },
      "execution_count": 17,
      "outputs": [
        {
          "output_type": "stream",
          "name": "stdout",
          "text": [
            "results of independent t-tests \n",
            "t statitical value : 6.89789299337847\n",
            "p value : 3.009689938979589e-09\n",
            "reject the null hypothisis \n",
            " there is a differece between group a and group b students\n"
          ]
        }
      ]
    },
    {
      "cell_type": "code",
      "source": [
        "'''A company wants to compare the efficiency of two different types of machines.\n",
        " Machine A has been tested 25 times with an average production of 100 units and a standard deviation of 8 units.\n",
        "  Machine B has been tested 20 times with an average production of 105 units and a standard deviation of 10 units.\n",
        "  Is there a significant difference in the efficiency of the two machines at the 10% significance level?'''\n"
      ],
      "metadata": {
        "id": "GsM2rQEI4CY6",
        "colab": {
          "base_uri": "https://localhost:8080/",
          "height": 88
        },
        "outputId": "68ca8152-e76b-47c4-a7a6-1ed38adf65ec"
      },
      "execution_count": 18,
      "outputs": [
        {
          "output_type": "execute_result",
          "data": {
            "text/plain": [
              "'A company wants to compare the efficiency of two different types of machines.\\n Machine A has been tested 25 times with an average production of 100 units and a standard deviation of 8 units.\\n  Machine B has been tested 20 times with an average production of 105 units and a standard deviation of 10 units.\\n  Is there a significant difference in the efficiency of the two machines at the 10% significance level?'"
            ],
            "application/vnd.google.colaboratory.intrinsic+json": {
              "type": "string"
            }
          },
          "metadata": {},
          "execution_count": 18
        }
      ]
    },
    {
      "cell_type": "code",
      "source": [
        "# data\n",
        "na = 25\n",
        "xa = 100\n",
        "sa = 8\n",
        "\n",
        "alpha = 0.10\n",
        "\n",
        "nb = 20\n",
        "xb = 105\n",
        "sb = 10\n",
        "\n",
        "group_a_machine = np.random.normal(loc=xa,scale=sa,size=na)\n",
        "group_b_machine = np.random.normal(loc=xb,scale=sb,size=nb)\n",
        "\n",
        "t_statitics,p_value = stats.ttest_ind(group_a_machine,group_b_machine)\n",
        "\n",
        "print(f't statitical value : {t_statitics}')\n",
        "print(f'p value : {p_value}')\n",
        "\n",
        "if p_value < alpha:\n",
        "  print(\"reject the null hypothesis there is difference between two machines\")\n",
        "else:\n",
        "  print(\"accept the null hypothesis there is no difference between two machines\")"
      ],
      "metadata": {
        "colab": {
          "base_uri": "https://localhost:8080/"
        },
        "id": "tBZ-XS3P4CV0",
        "outputId": "5287349d-d329-4ed4-cb47-f0560eba1537"
      },
      "execution_count": 19,
      "outputs": [
        {
          "output_type": "stream",
          "name": "stdout",
          "text": [
            "t statitical value : -3.3971112553899623\n",
            "p value : 0.0014770383786774082\n",
            "reject the null hypothesis there is difference between two machines\n"
          ]
        }
      ]
    },
    {
      "cell_type": "code",
      "source": [
        "'''Two different diets were tested on two groups of 15 people each to see which diet is more effective for weight loss.\n",
        " The first group (Diet A) lost an average of 6 kg with a standard deviation of 2 kg.\n",
        " The second group (Diet B) lost an average of 4 kg with a standard deviation of 1.5 kg.\n",
        "  Test at the 5% significance level whether there is a difference in the effectiveness of the two diets.'''"
      ],
      "metadata": {
        "id": "zRwoPA824CSV",
        "colab": {
          "base_uri": "https://localhost:8080/",
          "height": 88
        },
        "outputId": "37cbfe5c-8842-4e74-b29f-671a75fb9590"
      },
      "execution_count": 20,
      "outputs": [
        {
          "output_type": "execute_result",
          "data": {
            "text/plain": [
              "'Two different diets were tested on two groups of 15 people each to see which diet is more effective for weight loss.\\n The first group (Diet A) lost an average of 6 kg with a standard deviation of 2 kg.\\n The second group (Diet B) lost an average of 4 kg with a standard deviation of 1.5 kg.\\n  Test at the 5% significance level whether there is a difference in the effectiveness of the two diets.'"
            ],
            "application/vnd.google.colaboratory.intrinsic+json": {
              "type": "string"
            }
          },
          "metadata": {},
          "execution_count": 20
        }
      ]
    },
    {
      "cell_type": "code",
      "source": [
        "# data\n",
        "na = 15\n",
        "xa = 6\n",
        "sa = 2\n",
        "alpha = 0.05\n",
        "nb = 15\n",
        "xb = 4\n",
        "sa = 1.5\n",
        "\n",
        "group_a_dieties = np.random.normal(loc=xa,scale=sa,size=na)\n",
        "group_b_dieties = np.random.normal(loc=xb,scale=sb,size=nb)\n",
        "\n",
        "t_statitics,p_value=stats.ttest_ind(group_a_dieties,group_b_dieties)\n",
        "\n",
        "print(f't statitical value : {t_statitics}')\n",
        "print(f'p value : {p_value}')\n",
        "\n",
        "if p_value > alpha:\n",
        "  print(\"reject the null hypothesis there is difference between two dietes\")\n",
        "else:\n",
        "  print(\"accept the null hypothesis there is no difference between two dietes\")\n"
      ],
      "metadata": {
        "colab": {
          "base_uri": "https://localhost:8080/"
        },
        "id": "fga17RFh4CPk",
        "outputId": "073facb4-0d41-4a53-8a6d-b79e9c5bd05b"
      },
      "execution_count": 22,
      "outputs": [
        {
          "output_type": "stream",
          "name": "stdout",
          "text": [
            "t statitical value : 1.0352166951801371\n",
            "p value : 0.3094262602327721\n",
            "accept the null hypothesis there is no difference between two dietes\n"
          ]
        }
      ]
    },
    {
      "cell_type": "code",
      "source": [
        "'''Weight Loss Program\n",
        "Scenario: A nutritionist wants to determine if a new diet plan is effective in reducing weight. Ten participants' weights were recorded before and after following the diet plan for 6 weeks.\n",
        "\n",
        "Data:\n",
        "\n",
        "Participant\tWeight Before (kg)\tWeight After (kg)\n",
        "1\t85\t82\n",
        "2\t90\t88\n",
        "3\t78\t75\n",
        "4\t92\t90\n",
        "5\t76\t74\n",
        "6\t84\t81\n",
        "7\t79\t76\n",
        "8\t88\t85\n",
        "9\t91\t87\n",
        "10\t82\t79\n",
        "'''"
      ],
      "metadata": {
        "id": "Ho2SHZM2dBj1"
      },
      "execution_count": null,
      "outputs": []
    },
    {
      "cell_type": "code",
      "source": [
        "# data\n",
        "weight_before = np.array([85, 90, 78, 92, 76, 84, 79, 88, 91, 82])\n",
        "weight_after = np.array([82, 88, 75, 90, 74, 81, 76, 85, 87, 79])\n",
        "alpha = 0.05\n",
        "\n",
        "difference_of_wieght = weight_before-weight_after\n",
        "print(f'difference of wieght : {difference_of_wieght}')\n",
        "\n",
        "t_statistics,p_value = stats.ttest_rel(weight_before,weight_after)\n",
        "\n",
        "print(f't staticial value : {t_statistics}')\n",
        "print(f'p_value : {p_value}')\n",
        "\n",
        "if p_value > alpha:\n",
        "    print('Fail to reject the null hypothesis: there is no significant difference between the weights before and after.')\n",
        "else:\n",
        "    print('Reject the null hypothesis: there is a significant difference between the weights before and after.')"
      ],
      "metadata": {
        "colab": {
          "base_uri": "https://localhost:8080/"
        },
        "id": "Ws3qCgRydFb3",
        "outputId": "578127dd-8271-4cff-fcb0-624a515502cd"
      },
      "execution_count": 28,
      "outputs": [
        {
          "output_type": "stream",
          "name": "stdout",
          "text": [
            "difference of wieght : [3 2 3 2 2 3 3 3 4 3]\n",
            "t staticial value : 13.999999999999998\n",
            "p_value : 2.0508298985827212e-07\n",
            "Reject the null hypothesis: there is a significant difference between the weights before and after.\n"
          ]
        }
      ]
    },
    {
      "cell_type": "code",
      "source": [
        "'''Exam Scores\n",
        "Scenario: A teacher wants to see if a new teaching method has improved student scores. Ten students' scores were recorded before and after using the new method.\n",
        "\n",
        "Data:\n",
        "\n",
        "Student\tScore Before\tScore After\n",
        "1\t65\t70\n",
        "2\t78\t82\n",
        "3\t88\t85\n",
        "4\t90\t92\n",
        "5\t75\t80\n",
        "6\t85\t87\n",
        "7\t80\t82\n",
        "8\t70\t75\n",
        "9\t95\t96\n",
        "10\t77\t79\n",
        "'''"
      ],
      "metadata": {
        "colab": {
          "base_uri": "https://localhost:8080/",
          "height": 70
        },
        "id": "tEQc0BzrdFX-",
        "outputId": "a208e2db-43e7-4d5b-9e1d-bd00d042d7eb"
      },
      "execution_count": 29,
      "outputs": [
        {
          "output_type": "execute_result",
          "data": {
            "text/plain": [
              "\"Exam Scores\\nScenario: A teacher wants to see if a new teaching method has improved student scores. Ten students' scores were recorded before and after using the new method.\\n\\nData:\\n\\nStudent\\tScore Before\\tScore After\\n1\\t65\\t70\\n2\\t78\\t82\\n3\\t88\\t85\\n4\\t90\\t92\\n5\\t75\\t80\\n6\\t85\\t87\\n7\\t80\\t82\\n8\\t70\\t75\\n9\\t95\\t96\\n10\\t77\\t79\\n\""
            ],
            "application/vnd.google.colaboratory.intrinsic+json": {
              "type": "string"
            }
          },
          "metadata": {},
          "execution_count": 29
        }
      ]
    },
    {
      "cell_type": "code",
      "source": [
        "score_before = np.array([65, 78, 88, 90, 75, 85, 80, 70, 95, 77])\n",
        "score_after = np.array([70, 82, 85, 92, 80, 87, 82, 75, 96, 79])\n",
        "\n",
        "difference_between_two_scores = score_before-score_after\n",
        "print(f'score differece between the two groups : {difference_between_two_scores}')\n",
        "\n",
        "t_stats , p_value = stats.ttest_rel(score_before,score_after)\n",
        "print(f't statitical value : {t_stats}')\n",
        "print(f'p value : {p_value}')\n",
        "\n",
        "if p_value > alpha:\n",
        "    print('Fail to reject the null hypothesis: there is no significant difference between the score before and after.')\n",
        "else:\n",
        "    print('Reject the null hypothesis: there is a significant difference between the score before and after.')"
      ],
      "metadata": {
        "colab": {
          "base_uri": "https://localhost:8080/"
        },
        "id": "d26zfWQqdFQZ",
        "outputId": "20f50612-b749-48e7-fbd3-397ad19263b2"
      },
      "execution_count": 30,
      "outputs": [
        {
          "output_type": "stream",
          "name": "stdout",
          "text": [
            "score differece between the two groups : [-5 -4  3 -2 -5 -2 -2 -5 -1 -2]\n",
            "t statitical value : -3.212647026585895\n",
            "p value : 0.010613773553681354\n",
            "Reject the null hypothesis: there is a significant difference between the score before and after.\n"
          ]
        }
      ]
    },
    {
      "cell_type": "code",
      "source": [
        "'''Problem 3: Blood Pressure Medication\n",
        "Scenario: A researcher is testing whether a new medication lowers blood pressure. Blood pressure readings of 8 patients were recorded before and after taking the medication for a month.\n",
        "\n",
        "Data:\n",
        "\n",
        "Patient\tBP Before\tBP After\n",
        "1\t150\t145\n",
        "2\t160\t155\n",
        "3\t140\t135\n",
        "4\t145\t140\n",
        "5\t155\t150\n",
        "6\t148\t142\n",
        "7\t152\t146\n",
        "8\t147\t141\n",
        "'''"
      ],
      "metadata": {
        "id": "U3lKFH3Gj7lR"
      },
      "execution_count": null,
      "outputs": []
    },
    {
      "cell_type": "code",
      "source": [
        "bp_before = np.array([150, 160, 140, 145, 155, 148, 152, 147])\n",
        "bp_after = np.array([145, 155, 135, 140, 150, 142, 146, 141])\n",
        "\n",
        "difference = bp_before-bp_after\n",
        "print(f'difference : {difference}')\n",
        "\n",
        "t_sta , p_values = stats.ttest_rel(bp_before,bp_after)\n",
        "print(f't statistics value : {t_sta}')\n",
        "print(f'p value : {p_values}')\n",
        "\n",
        "if p_value > alpha:\n",
        "    print('Fail to reject the null hypothesis: conclude that the new medication there no significantly lowers blood pressure.')\n",
        "else:\n",
        "    print('we reject the null hypothesis and conclude that the new medication significantly lowers blood pressure.')\n",
        "\n"
      ],
      "metadata": {
        "colab": {
          "base_uri": "https://localhost:8080/"
        },
        "id": "IHxdnruNj7is",
        "outputId": "0a1b3d15-c914-4559-e5aa-3db1c5634ead"
      },
      "execution_count": 33,
      "outputs": [
        {
          "output_type": "stream",
          "name": "stdout",
          "text": [
            "difference : [5 5 5 5 5 6 6 6]\n",
            "t statistics value : 29.374592195750846\n",
            "p value : 1.364754415575115e-08\n",
            "we reject the null hypothesis and conclude that the new medication significantly lowers blood pressure.\n"
          ]
        }
      ]
    },
    {
      "cell_type": "code",
      "source": [],
      "metadata": {
        "id": "p0wwxeD-kIux"
      },
      "execution_count": null,
      "outputs": []
    }
  ]
}